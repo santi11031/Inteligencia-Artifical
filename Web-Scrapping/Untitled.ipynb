{
 "cells": [
  {
   "cell_type": "markdown",
   "id": "7710d342-ec10-4c4b-976b-6bc7eac13799",
   "metadata": {},
   "source": [
    "### Santiago Escobar Calderón\n",
    "### Inteligencia Artifical Aplicada al territorio\n",
    "### cod:20182025162\n",
    "\n",
    "## Web scrapping para la automatización de creaciones de Bases de datos\n",
    "\n",
    "La siguiente presentación que se hará tiene que ver con el uso de web scrapping para la obtención de datos, para ello es importante mencionar varias cosas del web scrapping antes de empezar:\n",
    "\n",
    "* El webscrapping no tiene una forma mecánica de hacerse, es decir, no se puede seguir el mismo proceso para todas las páginas donde se quieran rascar los datos.\n",
    "* Hay que tener nociones básicas de como funciona el lenguaje etiquetado HTML y el lenguaje de programación JavaScript para poder reconocer los patrones de busqueda de los elementos en las páginas.\n",
    "* Los filtros que se utilizan durante el web scrapping se manejan casi en su totalidad con regular expressions por lo cual es necesario saber de estas\n"
   ]
  },
  {
   "cell_type": "markdown",
   "id": "634457eb-e670-409c-9ee8-227113102627",
   "metadata": {},
   "source": [
    "### Lo primero que se hará antes de empezar a hacer el webscrapping es manejar ciertas librerías importantes como por ejemplo\n",
    "\n",
    "* Selenium: La cual permite crear el driver de donde se sacará el contenido HTML de la página\n",
    "* BeautifulSoup: la cual permite extraer los datos asociados a las etiquetas de los distintos elementos de la página\n",
    "* Regular exprssion: que permite crear patrones de busqueda entre carácteres"
   ]
  },
  {
   "cell_type": "code",
   "execution_count": 33,
   "id": "4de5fe6c-6f8c-4476-b27e-396176f82c70",
   "metadata": {},
   "outputs": [],
   "source": [
    "from selenium import webdriver\n",
    "from selenium.webdriver.common.keys import Keys\n",
    "from selenium.webdriver.common.by import By\n",
    "from bs4 import BeautifulSoup\n",
    "import re\n",
    "import pandas as pd\n",
    "import seaborn as sns\n",
    "import matplotlib.pyplot as plt\n"
   ]
  },
  {
   "cell_type": "markdown",
   "id": "5d8ef4fc-382a-4c4b-9d5a-b9f1747949ed",
   "metadata": {},
   "source": [
    "#### Para poder empezar a utilizar el webscrapping se tiene que crear un objeto de la calse webdriver la cual permitirá al proceso de automatización e interactuar con un navegador web y realizar acciones automatizadas, como abrir páginas web, llenar formularios, hacer clic en elementos y extraer información."
   ]
  },
  {
   "cell_type": "code",
   "execution_count": 21,
   "id": "cdeb74ea-bab0-458e-a09b-8d0b73978597",
   "metadata": {},
   "outputs": [],
   "source": [
    "driver=webdriver.Chrome()"
   ]
  },
  {
   "cell_type": "markdown",
   "id": "ff4cf2ab-d25f-4fc8-b629-059fe4439dbc",
   "metadata": {},
   "source": [
    "#### En esta parte del proceso de automatización se obtendrá la página de la cual se pretende hacer el scrapeo de los datos, en este caso los inmuebles de Bogotá ubicados en el barrio Chapinero"
   ]
  },
  {
   "cell_type": "code",
   "execution_count": 22,
   "id": "a60c12b1-b264-4040-840f-658c05df0861",
   "metadata": {},
   "outputs": [],
   "source": [
    "driver.get('https://listado.mercadolibre.com.co/casas-bogota-chapinero#D[A:casas%20bogota%20chapinero]')\n",
    "Contenido=driver.page_source\n",
    "soup=BeautifulSoup(Contenido)\n"
   ]
  },
  {
   "cell_type": "code",
   "execution_count": 23,
   "id": "c53e8070-2e23-4220-9fb9-209494fdf36d",
   "metadata": {},
   "outputs": [],
   "source": [
    "#Creación de las listas para el filtro de elementos\n",
    "Precio=[]\n",
    "Area=[]\n",
    "Habitaciones=[]\n"
   ]
  },
  {
   "cell_type": "markdown",
   "id": "410b3549-bdf4-401d-bfef-8cf0cbe55736",
   "metadata": {},
   "source": [
    "#### Esta parte consiste en la extracción de elementos basados en la clase que permite ver los precios de los inmuebles en la localidad de chapinero, al encontrar todos estos elementos, sólo se añadirá la parte textual que compone a todas estas clases, después de haber realizado esto se hará un filtro mediante una regular expression la cual está definida mediante la variable patrón"
   ]
  },
  {
   "cell_type": "code",
   "execution_count": 24,
   "id": "aba3ad45-bd18-426e-821a-7ba5cbcae525",
   "metadata": {},
   "outputs": [],
   "source": [
    "elementos = soup.find_all(class_=\"ui-search-item__group ui-search-item__group--price shops__items-group\")\n",
    "for elemento in elementos:\n",
    "    Precio.append(elemento.text)\n",
    "    \n",
    "#Crear la regular expresion que permita hacer el compilado de datos\n",
    "\n",
    "patron = re.compile(r'(\\d[\\d.]*)\\s*pesos')\n",
    "\n",
    "#Crear los precios\n",
    "\n",
    "PrecioSucio=[]\n",
    "\n",
    "for dato in Precio:\n",
    "    Filtro=patron.search(dato)\n",
    "    if Filtro:\n",
    "        numero = Filtro.group(1).replace(\".\", \"\")\n",
    "        PrecioSucio.append(numero)\n",
    "\n"
   ]
  },
  {
   "cell_type": "markdown",
   "id": "7119ec17-b649-4325-83ac-47db7b5a1d70",
   "metadata": {},
   "source": [
    "## Filtro para la variable de área"
   ]
  },
  {
   "cell_type": "code",
   "execution_count": 26,
   "id": "d5c90764-528d-4214-b662-4d14d74c67b2",
   "metadata": {},
   "outputs": [],
   "source": [
    "elementos2 = soup.find_all(class_=\"ui-search-item__group ui-search-item__group--attributes shops__items-group\")\n",
    "\n",
    "for elemento2 in elementos2:\n",
    "    Area.append(elemento2.text)\n",
    "## Creamos el patrón para los datos\n",
    "\n",
    "patron1 = re.compile(r'\\d{3}')\n",
    "\n",
    "\n",
    "AreaSucia=[]\n",
    "for dato in Area:\n",
    "    Filtro=patron1.search(dato)\n",
    "    if Filtro:\n",
    "        numero=Filtro.group()\n",
    "        AreaSucia.append(numero)\n",
    "        \n",
    "    "
   ]
  },
  {
   "cell_type": "markdown",
   "id": "ad4d3d63-8164-40ff-bf37-6b53a52284c5",
   "metadata": {},
   "source": [
    "## Filtro para la variable de  Habitaciones"
   ]
  },
  {
   "cell_type": "code",
   "execution_count": 28,
   "id": "04a130bd-cf07-4ddc-8dbe-2d8f2981757d",
   "metadata": {},
   "outputs": [],
   "source": [
    "elementos3 = soup.find_all(class_=\"ui-search-item__group ui-search-item__group--attributes shops__items-group\")\n",
    "\n",
    "for elemento2 in elementos2:\n",
    "    Habitaciones.append(elemento2.text)\n",
    "## Creamos el patrón para los datos\n",
    "\n",
    "patron2 = re.compile(r'cubiertos(\\d+)')\n",
    "\n",
    "\n",
    "HabitacionSucia=[]\n",
    "for dato in Habitaciones:\n",
    "    Filtro=patron2.search(dato)\n",
    "    if Filtro:\n",
    "        numero=Filtro.group(1)\n",
    "        HabitacionSucia.append(numero)"
   ]
  },
  {
   "cell_type": "code",
   "execution_count": 25,
   "id": "2e5349b6-3de6-4323-af63-b89f7d2a55cf",
   "metadata": {},
   "outputs": [
    {
     "data": {
      "text/plain": [
       "48"
      ]
     },
     "execution_count": 25,
     "metadata": {},
     "output_type": "execute_result"
    }
   ],
   "source": [
    "len(PrecioSucio)"
   ]
  },
  {
   "cell_type": "code",
   "execution_count": 27,
   "id": "96ab3535-ba4c-4a7b-84ef-ca7c9aa081fd",
   "metadata": {},
   "outputs": [
    {
     "data": {
      "text/plain": [
       "48"
      ]
     },
     "execution_count": 27,
     "metadata": {},
     "output_type": "execute_result"
    }
   ],
   "source": [
    "len(AreaSucia)"
   ]
  },
  {
   "cell_type": "code",
   "execution_count": 29,
   "id": "736fa459-6dee-4398-af67-d969563f2b3e",
   "metadata": {},
   "outputs": [
    {
     "data": {
      "text/plain": [
       "46"
      ]
     },
     "execution_count": 29,
     "metadata": {},
     "output_type": "execute_result"
    }
   ],
   "source": [
    "len(HabitacionSucia)"
   ]
  },
  {
   "cell_type": "markdown",
   "id": "30125e57-8d89-41c9-81bb-acd923f5bb07",
   "metadata": {},
   "source": [
    "#### Para poder crear el dataframe que es un objeto de la clase dataframe del módulo pandas se debe tener en cuenta que todos las listas tienen que tener la misma longitud, por lo tanto en las siguiente dos líneas se hace el recorte de los datos para generar una misma cantidad de datos para cada lista"
   ]
  },
  {
   "cell_type": "code",
   "execution_count": 30,
   "id": "e5c619fd-ab3a-4b57-9de1-d8085e929574",
   "metadata": {},
   "outputs": [],
   "source": [
    "### Anidado de datos\n",
    "\n",
    "\n",
    "PrimerRecorte=2\n",
    "\n",
    "PrecioSucio=PrecioSucio[:-PrimerRecorte]\n",
    "\n",
    "SegundoRecorte=2\n",
    "\n",
    "AreaSucia=AreaSucia[:-SegundoRecorte]\n"
   ]
  },
  {
   "cell_type": "code",
   "execution_count": 60,
   "id": "0332c3f6-4212-4af7-a096-8fe936960fa0",
   "metadata": {},
   "outputs": [],
   "source": [
    "Datos = {'Precio': PrecioSucio, 'Area': AreaSucia, 'Habitaciones': HabitacionSucia}\n",
    "df=pd.DataFrame(Datos)\n",
    "\n"
   ]
  },
  {
   "cell_type": "code",
   "execution_count": 61,
   "id": "62f2c4ce-4db8-4d11-ae8c-f24d225ffa06",
   "metadata": {},
   "outputs": [
    {
     "data": {
      "text/html": [
       "<div>\n",
       "<style scoped>\n",
       "    .dataframe tbody tr th:only-of-type {\n",
       "        vertical-align: middle;\n",
       "    }\n",
       "\n",
       "    .dataframe tbody tr th {\n",
       "        vertical-align: top;\n",
       "    }\n",
       "\n",
       "    .dataframe thead th {\n",
       "        text-align: right;\n",
       "    }\n",
       "</style>\n",
       "<table border=\"1\" class=\"dataframe\">\n",
       "  <thead>\n",
       "    <tr style=\"text-align: right;\">\n",
       "      <th></th>\n",
       "      <th>Precio</th>\n",
       "      <th>Area</th>\n",
       "      <th>Habitaciones</th>\n",
       "    </tr>\n",
       "  </thead>\n",
       "  <tbody>\n",
       "    <tr>\n",
       "      <th>0</th>\n",
       "      <td>1338134411</td>\n",
       "      <td>466</td>\n",
       "      <td>10</td>\n",
       "    </tr>\n",
       "    <tr>\n",
       "      <th>1</th>\n",
       "      <td>2500000000</td>\n",
       "      <td>520</td>\n",
       "      <td>5</td>\n",
       "    </tr>\n",
       "    <tr>\n",
       "      <th>2</th>\n",
       "      <td>1300000000</td>\n",
       "      <td>158</td>\n",
       "      <td>3</td>\n",
       "    </tr>\n",
       "    <tr>\n",
       "      <th>3</th>\n",
       "      <td>590000000</td>\n",
       "      <td>172</td>\n",
       "      <td>5</td>\n",
       "    </tr>\n",
       "    <tr>\n",
       "      <th>4</th>\n",
       "      <td>3100000000</td>\n",
       "      <td>572</td>\n",
       "      <td>11</td>\n",
       "    </tr>\n",
       "  </tbody>\n",
       "</table>\n",
       "</div>"
      ],
      "text/plain": [
       "       Precio Area Habitaciones\n",
       "0  1338134411  466           10\n",
       "1  2500000000  520            5\n",
       "2  1300000000  158            3\n",
       "3   590000000  172            5\n",
       "4  3100000000  572           11"
      ]
     },
     "execution_count": 61,
     "metadata": {},
     "output_type": "execute_result"
    }
   ],
   "source": [
    "df.head(5)"
   ]
  },
  {
   "cell_type": "markdown",
   "id": "e531ea4e-0fe4-4f97-b801-ff14d16cc89b",
   "metadata": {},
   "source": [
    "### NOTA!!!\n",
    "#### Hay que tener muy presente que los elementos de la lista que se crean no se pueden utilizar sino que se deben cambiar el tipo de dato ya que por defecto no vienen configurados, por lo tanto eso es lo que se hará"
   ]
  },
  {
   "cell_type": "code",
   "execution_count": 63,
   "id": "fd78cf18-225b-4244-85ab-aa103dc542b7",
   "metadata": {},
   "outputs": [],
   "source": [
    "df['Precio']=df['Precio'].astype(float)\n",
    "df['Area']=df['Area'].astype(int)\n",
    "df['Habitaciones']=df['Habitaciones'].astype(int)\n",
    "\n"
   ]
  },
  {
   "cell_type": "markdown",
   "id": "0ed388aa-433f-41e6-bfab-a0a136c7ad02",
   "metadata": {},
   "source": [
    "### Mediante una forma gráfica se pretenderá ver cuales son los registros que se encuentran muy alejados de la media y de acuerdo a estos se eliminarán en un futuro"
   ]
  },
  {
   "cell_type": "code",
   "execution_count": 55,
   "id": "57ff0e3b-aed1-4b40-994b-df2969b207a9",
   "metadata": {},
   "outputs": [
    {
     "data": {
      "image/png": "[encoded data removed]",
      "text/plain": [
       "<Figure size 1080x360 with 3 Axes>"
      ]
     },
     "metadata": {
      "needs_background": "light"
     },
     "output_type": "display_data"
    }
   ],
   "source": [
    "fig, axes = plt.subplots(nrows=1, ncols=3, figsize=(15, 5))\n",
    "\n",
    "axes[0]=sns.boxplot(x=df['Habitaciones'], y=df['Precio'], data=df,ax=axes[0])\n",
    "axes[1]=sns.histplot(x=df['Area'], bins=5, kde=True, color='blue',ax=axes[1])\n",
    "axes[2]=sns.histplot(x=df['Habitaciones'], bins=5, kde=True, color='blue',ax=axes[2])\n",
    "\n",
    "\n",
    "\n",
    "\n",
    "\n",
    "\n"
   ]
  },
  {
   "cell_type": "markdown",
   "id": "c4de9478-77f6-47f5-87f4-f58f6967c6c5",
   "metadata": {},
   "source": [
    "### Al poder hallar que los puntos que más se alejaban de la media eran los que pertenecían a la variable de habitaciones, se decidió eliminar estos mediante el siguiente código"
   ]
  },
  {
   "cell_type": "code",
   "execution_count": 64,
   "id": "fdf00d20-a2ac-4c3b-b500-477b7c1092d2",
   "metadata": {},
   "outputs": [],
   "source": [
    "df = df.drop(df[df['Habitaciones'] > 10].index)\n"
   ]
  },
  {
   "cell_type": "code",
   "execution_count": 66,
   "id": "869cb292-44de-4999-99d8-a2cd1f9885d4",
   "metadata": {},
   "outputs": [
    {
     "data": {
      "image/png": "[encoded data removed]",
      "text/plain": [
       "<Figure size 1080x360 with 3 Axes>"
      ]
     },
     "metadata": {
      "needs_background": "light"
     },
     "output_type": "display_data"
    }
   ],
   "source": [
    "fig, axes = plt.subplots(nrows=1, ncols=3, figsize=(15, 5))\n",
    "\n",
    "axes[0]=sns.boxplot(x=df['Habitaciones'], y=df['Precio'], data=df,ax=axes[0])\n",
    "axes[1]=sns.histplot(x=df['Area'], bins=5, kde=True, color='blue',ax=axes[1])\n",
    "axes[2]=sns.histplot(x=df['Habitaciones'], bins=5, kde=True, color='blue',ax=axes[2])"
   ]
  },
  {
   "cell_type": "markdown",
   "id": "a9d35d12-abbe-4158-9cec-41d2b3db1776",
   "metadata": {},
   "source": [
    "#### En la siguiente línea se eliminarán los registros vacíos, esto se debe hacer en aras de limpieza de los datos, en el trabajo que se hizo no es necesario ya que no se tienen registros vacíos"
   ]
  },
  {
   "cell_type": "code",
   "execution_count": 69,
   "id": "77e39a3c-b752-47b4-8d06-8d9f9812e5da",
   "metadata": {},
   "outputs": [],
   "source": [
    "df=df.dropna()\n"
   ]
  },
  {
   "cell_type": "markdown",
   "id": "4babb5af-e403-4982-96c4-4d2cd04d26d1",
   "metadata": {},
   "source": [
    "### Por último se guardará en un archivo .csv para guardar información para el futuro"
   ]
  },
  {
   "cell_type": "code",
   "execution_count": 76,
   "id": "2d122ec9-112e-4174-b4ab-29680a174255",
   "metadata": {},
   "outputs": [],
   "source": [
    "df.to_csv('CasasChapinero.csv', index=True)"
   ]
  }
 ],
 "metadata": {
  "kernelspec": {
   "display_name": "Python 3 (ipykernel)",
   "language": "python",
   "name": "python3"
  },
  "language_info": {
   "codemirror_mode": {
    "name": "ipython",
    "version": 3
   },
   "file_extension": ".py",
   "mimetype": "text/x-python",
   "name": "python",
   "nbconvert_exporter": "python",
   "pygments_lexer": "ipython3",
   "version": "3.9.12"
  }
 },
 "nbformat": 4,
 "nbformat_minor": 5
}
