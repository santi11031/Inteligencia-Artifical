{
 "cells": [
  {
   "cell_type": "markdown",
   "id": "511e9f2c-7914-4a19-b6a1-b81ee9ac9dd4",
   "metadata": {},
   "source": [
    "## Red neuronal Adaline\n",
    "\n",
    " Las redes neuronales son una especie de dispositivos los cuales están programados de tal manera que puedan representar un cerebro humano, de esta manera simulan los procesos de aprendizaje humano, dentro de estas redes neuronales tenemos la denominada red ADALINE\n",
    "\n",
    "\n",
    "Esta tiene una diferencia significativa con la red perceptron ya que esta puede emplear una regla de aprendizaje más fuerte que la del perceptrón la cual se denomina mínimo cuadrado medio.\n",
    "\n",
    "El perceptrón por su parte se encarga de diferenciar una clase de la otra, es decir, la clasificación del perceptrón es muy básica mientras que la clasificación de ADALINE tiene una tendencia lineal, es decir que puede tomar desde valores positivos hasta negativos\n",
    "\n"
   ]
  },
  {
   "cell_type": "markdown",
   "id": "24340697-e8a9-4270-a39f-b5dc3d9b7a60",
   "metadata": {
    "tags": []
   },
   "source": [
    "## Características de la red ADALINE\n",
    "Las redes adaline son redes que se parecen mucho a perceptón, la diferencia con esta es que la función de activación es lineal en lugar de ser un limitador fuerte como en Perceptrón, esta por un lado puede presentar problemas linealmente separados\n",
    "\n",
    "## Arquitectura\n",
    "\n",
    "La red Adaline está formada por un elemento denominado combinador adaptativo lineal el cual tiene una salida lineal obtenida del ALC el cual puede ser aplicada a un conmutador bipolar, el umbral que está debe alcanzar se representa mediante una conexión ficticia de peso W0.\n",
    "\n",
    "## Algoritmo de aprendizaje que debe llevar una red adaline\n",
    "\n",
    "* Inicializar los pesos en forma aleatoria\n",
    "* Introducir un patrón de entrada\n",
    "* Calcular la salida (y), compararla con la deseada (d) y obtener la diferencia (dp-yp)\n",
    "* Multiplicar el resultado del paso anterior por la entrada correspondiente a cada uno de los pesos y ponderarla por la tasa de aprendizaje\n",
    "* Actualizar los pesos, sumando al valor antiguo la cantidad obtenida en el anterior peso\n",
    "* Repetir el algoritmo las veces que sean necesarias para repetir el criterio de parada\n",
    "\n",
    "<img src=http://3.bp.blogspot.com/-THsUIgnjomY/VZ3WvLgkS-I/AAAAAAAAAJg/fl9uQ6TOpvo/s1600/Diapositiva2.JPG>\n",
    "<img src=http://2.bp.blogspot.com/-DYQPeMOuFG8/VZ3W2ZtpT9I/AAAAAAAAAJo/S0IlesS3LcA/s1600/Diapositiva3.JPG>\n",
    "<img src=http://2.bp.blogspot.com/-iZvJ9tNByzA/VZ3W9cP9y-I/AAAAAAAAAJw/dX_hvq7GMNU/s400/Diapositiva4.JPG>\n",
    "<img src=http://3.bp.blogspot.com/-8rU4I5GQfRU/VZ3XPcxckkI/AAAAAAAAAKA/3rOmZUG20pU/s400/Diapositiva6.JPG>\n",
    "\n",
    "\n",
    "\n"
   ]
  },
  {
   "cell_type": "markdown",
   "id": "d5c1a18c-096c-4283-839c-426ede9467cc",
   "metadata": {
    "tags": []
   },
   "source": [
    "## Aplicaciones de la red neuronal ADALINE en el contexto de ingeniería catastral y geodesia\n",
    "\n",
    "* Detección de patrones de datos: la red adaline permitiría poder hallar patrones en datos relacionados con ordenamiento territorial, catastro o procesamiento digital de imágenes satelitales\n",
    "* Análisis de datos económicos: Adaline podría ser aplicado para modelar tendencias económicas que pueden tener que ver con zonas de valorización.\n",
    "* Sistemas de recomendaciones simples: esta puede red puede ayudar a tomar decisiones simples como por ejemplo cual sería la mejor red geodesica entre varias para hacer un proyecto cartográfico"
   ]
  },
  {
   "cell_type": "markdown",
   "id": "cc246a7e-5ec0-4aff-a832-85ee9f54c6aa",
   "metadata": {},
   "source": [
    "### Modelación de la red neuronal adaline desde el SCRATCH\n",
    "\n",
    "Para la modelación de la red adaline desde el scratch hay que tener el desarrollo matemático anteriormente descrito en los pasos anteriores y los cuales servirán para poder crear esta red, estos serán presentados en el siguiente código con el fin de poder mostrar como está diseñada una de estas redes."
   ]
  },
  {
   "cell_type": "code",
   "execution_count": 59,
   "id": "165241a3-1426-4ff3-ad85-fa3ce8bea65a",
   "metadata": {},
   "outputs": [],
   "source": [
    "import numpy as np\n",
    "import pandas as pd\n",
    "\n",
    "class Adaline(object):\n",
    "    \n",
    "    \"\"\"\n",
    "    Parametros que recibirá esta red neuronal\n",
    "    \n",
    "    eta: float\n",
    "    es la tasa de aprendizaje que para evitar problemas \n",
    "    debe estar entre 0 y 1\n",
    "    \n",
    "    n_iter: int\n",
    "    \n",
    "    son las epocas en las cuales el modelo hace aprendizaje\n",
    "    \n",
    "    random_state: int\n",
    "    \n",
    "    es un número random generador de los pesos para el ajuste\n",
    "    \n",
    "    w_: id-array\n",
    "    pesos después del entrenamiento\n",
    "    \n",
    "    cost_ : list\n",
    "    \n",
    "    suma de los cuadrados en la función de costo que se avlua en cada epoca\n",
    "    \"\"\"\n",
    "    \n",
    "    def __init__(self, eta, n_iter, random_state=14):\n",
    "        self.eta= eta\n",
    "        self.n_iter= n_iter\n",
    "        self. random_state = random_state\n",
    "        \n",
    "    def fit(self, X, y):\n",
    "        \n",
    "        \"\"\"\n",
    "        x: conjunto de entrenamiento\n",
    "        y: conjunto de variable explicativa\n",
    "        \"\"\"\n",
    "        rgen=np.random.RandomState(self.random_state)\n",
    "        self.w_= rgen.normal(loc=0.0, scale=0.01,size=1+X.shape[1])\n",
    "        self.cost_=[]\n",
    "        \n",
    "        for i in range(self.n_iter):\n",
    "            \n",
    "            net_input= self.net_input(X)\n",
    "            output= self.activation(net_input)\n",
    "            errors= (y-output)\n",
    "            self.w_[1:]+= self.eta * X.T.dot(errors)\n",
    "            self.w_[0]+= self.eta* errors.sum()\n",
    "            cost=(errors**2).sum()/2.0\n",
    "            self.cost_.append(cost)\n",
    "        return self\n",
    "    \n",
    "    def net_input(self, X):\n",
    "        \"\"\" Esta función sirve para calcular la red de entrada\"\"\"\n",
    "        return np.dot(X, self.w_[1:]) + self.w_[0]\n",
    "    \n",
    "    def activation(self, X):\n",
    "        \n",
    "        #Esta función computa la activación lineal\n",
    "        return X\n",
    "    def predict(self,X):\n",
    "        \"\"\" RETORNA LOS VALORES DE AJUSTE DESPUÉS DE CADA ÉPOCA\"\"\"\n",
    "        return np.where(self.activation(self.net_input(X))>= 0.0,1,-1)\n",
    "    "
   ]
  },
  {
   "cell_type": "markdown",
   "id": "a6d4b91c-d4f5-498d-9432-ef9be25c48c9",
   "metadata": {},
   "source": [
    "### Base de datos y depuración de los datos\n",
    "en esta sección se revisará como hacer la depuración de los datos con el fin de poder crear una base de datos que permita entrenar al modelo de manera correcta, estos datos pertenecen a los proyectos de ejecución financiera del Departamento nacional de planeación en donde además se verán varios elementos importantes como el sector al cual pertenecen estos proyectos y además también ver los valores que se tienen para cada uno de los proyectos."
   ]
  },
  {
   "cell_type": "code",
   "execution_count": 1,
   "id": "0f8c352c-d758-49d4-8983-2725c9cc691c",
   "metadata": {},
   "outputs": [
    {
     "name": "stderr",
     "output_type": "stream",
     "text": [
      "/tmp/ipykernel_11407/3030607850.py:3: DtypeWarning: Columns (14,17) have mixed types. Specify dtype option on import or set low_memory=False.\n",
      "  df= pd.read_csv(Ruta)\n"
     ]
    }
   ],
   "source": [
    "import pandas as pd\n",
    "Ruta='DNP-EjecucionFinancieraProy.csv'\n",
    "df= pd.read_csv(Ruta)\n",
    "\n",
    "df_Nuevo= df[0:500]\n"
   ]
  },
  {
   "cell_type": "code",
   "execution_count": 101,
   "id": "72429775-7a05-4d05-b968-d216a77c4b10",
   "metadata": {},
   "outputs": [
    {
     "data": {
      "text/html": [
       "<div>\n",
       "<style scoped>\n",
       "    .dataframe tbody tr th:only-of-type {\n",
       "        vertical-align: middle;\n",
       "    }\n",
       "\n",
       "    .dataframe tbody tr th {\n",
       "        vertical-align: top;\n",
       "    }\n",
       "\n",
       "    .dataframe thead th {\n",
       "        text-align: right;\n",
       "    }\n",
       "</style>\n",
       "<table border=\"1\" class=\"dataframe\">\n",
       "  <thead>\n",
       "    <tr style=\"text-align: right;\">\n",
       "      <th></th>\n",
       "      <th>BPIN</th>\n",
       "      <th>Nombre del proyecto</th>\n",
       "      <th>Sector</th>\n",
       "      <th>Fuentedefinanciación</th>\n",
       "      <th>Horizonte</th>\n",
       "      <th>Vigencia</th>\n",
       "      <th>ValorSolicitado</th>\n",
       "      <th>ValorInicial</th>\n",
       "      <th>ValorVigente</th>\n",
       "      <th>ValorComprometido</th>\n",
       "      <th>ValorObligado</th>\n",
       "      <th>ValorPagado</th>\n",
       "      <th>EntidadResponsable</th>\n",
       "      <th>TipoEntidadFuenteFinanciacion</th>\n",
       "      <th>CodigoEntidadFuenteFinanciacion</th>\n",
       "      <th>EntidadFuenteFinanciacion</th>\n",
       "      <th>TipoRecursoFuenteFinanciacion</th>\n",
       "      <th>CodigoEntidadResponsable</th>\n",
       "    </tr>\n",
       "  </thead>\n",
       "  <tbody>\n",
       "    <tr>\n",
       "      <th>0</th>\n",
       "      <td>2018011000972</td>\n",
       "      <td>Mejoramiento Rehabilitacion Construccion  Mant...</td>\n",
       "      <td>Transporte</td>\n",
       "      <td>PGN - Presupuesto General de la Nación</td>\n",
       "      <td>2019-2040</td>\n",
       "      <td>2040</td>\n",
       "      <td>7.059970e+10</td>\n",
       "      <td>0.000000e+00</td>\n",
       "      <td>0.000000e+00</td>\n",
       "      <td>0.000000e+00</td>\n",
       "      <td>0.000000e+00</td>\n",
       "      <td>0.000000e+00</td>\n",
       "      <td>Agencia Nacional de Infraestructura - ANI - Tr...</td>\n",
       "      <td>Entidades Presupuesto Nacional - PGN</td>\n",
       "      <td>241300</td>\n",
       "      <td>Agencia Nacional de Infraestructura - ANI - Tr...</td>\n",
       "      <td>PGN - Nación - Inversión</td>\n",
       "      <td>241300</td>\n",
       "    </tr>\n",
       "    <tr>\n",
       "      <th>1</th>\n",
       "      <td>0041007170000</td>\n",
       "      <td>Mejoramiento Y Mantenimiento Carretera Patico-...</td>\n",
       "      <td>Transporte</td>\n",
       "      <td>PGN - Presupuesto General de la Nación</td>\n",
       "      <td>2001-2021</td>\n",
       "      <td>2013</td>\n",
       "      <td>1.000000e+10</td>\n",
       "      <td>9.000000e+09</td>\n",
       "      <td>9.000000e+09</td>\n",
       "      <td>9.000000e+09</td>\n",
       "      <td>8.259759e+09</td>\n",
       "      <td>6.448792e+09</td>\n",
       "      <td>Instituto Nacional de Vias - Transporte</td>\n",
       "      <td>Entidades Presupuesto Nacional - PGN</td>\n",
       "      <td>240200</td>\n",
       "      <td>Instituto Nacional de Vias - Transporte</td>\n",
       "      <td>PGN - Nación - Inversión</td>\n",
       "      <td>240200</td>\n",
       "    </tr>\n",
       "  </tbody>\n",
       "</table>\n",
       "</div>"
      ],
      "text/plain": [
       "            BPIN                                Nombre del proyecto  \\\n",
       "0  2018011000972  Mejoramiento Rehabilitacion Construccion  Mant...   \n",
       "1  0041007170000  Mejoramiento Y Mantenimiento Carretera Patico-...   \n",
       "\n",
       "       Sector                    Fuentedefinanciación  Horizonte  Vigencia  \\\n",
       "0  Transporte  PGN - Presupuesto General de la Nación  2019-2040      2040   \n",
       "1  Transporte  PGN - Presupuesto General de la Nación  2001-2021      2013   \n",
       "\n",
       "   ValorSolicitado  ValorInicial  ValorVigente  ValorComprometido  \\\n",
       "0     7.059970e+10  0.000000e+00  0.000000e+00       0.000000e+00   \n",
       "1     1.000000e+10  9.000000e+09  9.000000e+09       9.000000e+09   \n",
       "\n",
       "   ValorObligado   ValorPagado  \\\n",
       "0   0.000000e+00  0.000000e+00   \n",
       "1   8.259759e+09  6.448792e+09   \n",
       "\n",
       "                                  EntidadResponsable  \\\n",
       "0  Agencia Nacional de Infraestructura - ANI - Tr...   \n",
       "1            Instituto Nacional de Vias - Transporte   \n",
       "\n",
       "          TipoEntidadFuenteFinanciacion CodigoEntidadFuenteFinanciacion  \\\n",
       "0  Entidades Presupuesto Nacional - PGN                          241300   \n",
       "1  Entidades Presupuesto Nacional - PGN                          240200   \n",
       "\n",
       "                           EntidadFuenteFinanciacion  \\\n",
       "0  Agencia Nacional de Infraestructura - ANI - Tr...   \n",
       "1            Instituto Nacional de Vias - Transporte   \n",
       "\n",
       "  TipoRecursoFuenteFinanciacion CodigoEntidadResponsable  \n",
       "0      PGN - Nación - Inversión                   241300  \n",
       "1      PGN - Nación - Inversión                   240200  "
      ]
     },
     "execution_count": 101,
     "metadata": {},
     "output_type": "execute_result"
    }
   ],
   "source": [
    "df_Nuevo.head(2)"
   ]
  },
  {
   "cell_type": "code",
   "execution_count": 3,
   "id": "5d2cd8e9-b15f-4159-9c06-54f7bce4d9f3",
   "metadata": {},
   "outputs": [
    {
     "name": "stdout",
     "output_type": "stream",
     "text": [
      "<class 'pandas.core.frame.DataFrame'>\n",
      "RangeIndex: 500 entries, 0 to 499\n",
      "Data columns (total 18 columns):\n",
      " #   Column                           Non-Null Count  Dtype  \n",
      "---  ------                           --------------  -----  \n",
      " 0   BPIN                             500 non-null    object \n",
      " 1   Nombre del proyecto              500 non-null    object \n",
      " 2   Sector                           500 non-null    object \n",
      " 3   Fuentedefinanciación             500 non-null    object \n",
      " 4   Horizonte                        500 non-null    object \n",
      " 5   Vigencia                         500 non-null    int64  \n",
      " 6   ValorSolicitado                  500 non-null    float64\n",
      " 7   ValorInicial                     500 non-null    float64\n",
      " 8   ValorVigente                     500 non-null    float64\n",
      " 9   ValorComprometido                500 non-null    float64\n",
      " 10  ValorObligado                    500 non-null    float64\n",
      " 11  ValorPagado                      500 non-null    float64\n",
      " 12  EntidadResponsable               500 non-null    object \n",
      " 13  TipoEntidadFuenteFinanciacion    499 non-null    object \n",
      " 14  CodigoEntidadFuenteFinanciacion  500 non-null    object \n",
      " 15  EntidadFuenteFinanciacion        500 non-null    object \n",
      " 16  TipoRecursoFuenteFinanciacion    499 non-null    object \n",
      " 17  CodigoEntidadResponsable         500 non-null    object \n",
      "dtypes: float64(6), int64(1), object(11)\n",
      "memory usage: 70.4+ KB\n"
     ]
    }
   ],
   "source": [
    "df_Nuevo.info()"
   ]
  },
  {
   "cell_type": "markdown",
   "id": "fe9c2f22-1d54-4b2e-84f9-d1b66584088a",
   "metadata": {},
   "source": [
    "## Filtrado de datos\n",
    "Por practicidad del modelo se filtrará de acuerdo a dos valores en especifico de los sectores, por una parte se encuentra el del sector de transporte y por el otro lado el de planeación, además de esto se escogerá dentro de un rango de 500 datos ya que el entrenamiento de un modelo requiere de mucho sistema para poder realizarlo"
   ]
  },
  {
   "cell_type": "code",
   "execution_count": 4,
   "id": "927988be-93fe-4802-8e09-d6a8d45ae9da",
   "metadata": {},
   "outputs": [],
   "source": [
    "sector=[]\n",
    "ValorInicial=[]\n",
    "ValorSolicitado=[]\n",
    "ValorComprometido=[]\n",
    "ValorObligado=[]\n",
    "ValorPagado=[]\n",
    "\n",
    "for a,b,c,d,e,f in zip(df_Nuevo['Sector'],df_Nuevo['ValorInicial'], df_Nuevo['ValorSolicitado'],\n",
    "                       df_Nuevo['ValorComprometido']\n",
    "                        ,df_Nuevo['ValorObligado'],df_Nuevo['ValorPagado']):\n",
    "    if a== 'Transporte' or a=='Planeación':\n",
    "        sector.append(a)\n",
    "        ValorInicial.append(b)\n",
    "        ValorSolicitado.append(c)\n",
    "        ValorComprometido.append(d)\n",
    "        ValorObligado.append(e)\n",
    "        ValorPagado.append(f)"
   ]
  },
  {
   "cell_type": "code",
   "execution_count": 5,
   "id": "9c497e5c-52c3-41ae-8421-f08549dca2db",
   "metadata": {},
   "outputs": [],
   "source": [
    "df_f={'Sector':sector,'ValorInicial':ValorInicial, 'ValorSolicitado':ValorSolicitado,\n",
    "     'ValorComprometido':ValorComprometido,'ValorObligado':ValorObligado, 'ValorPagado':ValorPagado}\n",
    "\n",
    "df=pd.DataFrame(df_f)"
   ]
  },
  {
   "cell_type": "code",
   "execution_count": 6,
   "id": "73598cf9-d746-4893-a263-c60104cbe76c",
   "metadata": {},
   "outputs": [
    {
     "data": {
      "text/html": [
       "<div>\n",
       "<style scoped>\n",
       "    .dataframe tbody tr th:only-of-type {\n",
       "        vertical-align: middle;\n",
       "    }\n",
       "\n",
       "    .dataframe tbody tr th {\n",
       "        vertical-align: top;\n",
       "    }\n",
       "\n",
       "    .dataframe thead th {\n",
       "        text-align: right;\n",
       "    }\n",
       "</style>\n",
       "<table border=\"1\" class=\"dataframe\">\n",
       "  <thead>\n",
       "    <tr style=\"text-align: right;\">\n",
       "      <th></th>\n",
       "      <th>Sector</th>\n",
       "      <th>ValorInicial</th>\n",
       "      <th>ValorSolicitado</th>\n",
       "      <th>ValorComprometido</th>\n",
       "      <th>ValorObligado</th>\n",
       "      <th>ValorPagado</th>\n",
       "    </tr>\n",
       "  </thead>\n",
       "  <tbody>\n",
       "    <tr>\n",
       "      <th>0</th>\n",
       "      <td>Transporte</td>\n",
       "      <td>0.000000e+00</td>\n",
       "      <td>7.059970e+10</td>\n",
       "      <td>0.000000e+00</td>\n",
       "      <td>0.000000e+00</td>\n",
       "      <td>0.000000e+00</td>\n",
       "    </tr>\n",
       "    <tr>\n",
       "      <th>1</th>\n",
       "      <td>Transporte</td>\n",
       "      <td>9.000000e+09</td>\n",
       "      <td>1.000000e+10</td>\n",
       "      <td>9.000000e+09</td>\n",
       "      <td>8.259759e+09</td>\n",
       "      <td>6.448792e+09</td>\n",
       "    </tr>\n",
       "    <tr>\n",
       "      <th>2</th>\n",
       "      <td>Planeación</td>\n",
       "      <td>1.870000e+10</td>\n",
       "      <td>1.867078e+10</td>\n",
       "      <td>1.785346e+10</td>\n",
       "      <td>1.617853e+10</td>\n",
       "      <td>1.617031e+10</td>\n",
       "    </tr>\n",
       "    <tr>\n",
       "      <th>3</th>\n",
       "      <td>Transporte</td>\n",
       "      <td>2.000000e+09</td>\n",
       "      <td>0.000000e+00</td>\n",
       "      <td>2.000000e+09</td>\n",
       "      <td>0.000000e+00</td>\n",
       "      <td>0.000000e+00</td>\n",
       "    </tr>\n",
       "    <tr>\n",
       "      <th>4</th>\n",
       "      <td>Transporte</td>\n",
       "      <td>0.000000e+00</td>\n",
       "      <td>0.000000e+00</td>\n",
       "      <td>0.000000e+00</td>\n",
       "      <td>0.000000e+00</td>\n",
       "      <td>1.327554e+07</td>\n",
       "    </tr>\n",
       "  </tbody>\n",
       "</table>\n",
       "</div>"
      ],
      "text/plain": [
       "       Sector  ValorInicial  ValorSolicitado  ValorComprometido  \\\n",
       "0  Transporte  0.000000e+00     7.059970e+10       0.000000e+00   \n",
       "1  Transporte  9.000000e+09     1.000000e+10       9.000000e+09   \n",
       "2  Planeación  1.870000e+10     1.867078e+10       1.785346e+10   \n",
       "3  Transporte  2.000000e+09     0.000000e+00       2.000000e+09   \n",
       "4  Transporte  0.000000e+00     0.000000e+00       0.000000e+00   \n",
       "\n",
       "   ValorObligado   ValorPagado  \n",
       "0   0.000000e+00  0.000000e+00  \n",
       "1   8.259759e+09  6.448792e+09  \n",
       "2   1.617853e+10  1.617031e+10  \n",
       "3   0.000000e+00  0.000000e+00  \n",
       "4   0.000000e+00  1.327554e+07  "
      ]
     },
     "execution_count": 6,
     "metadata": {},
     "output_type": "execute_result"
    }
   ],
   "source": [
    "df.head(5)"
   ]
  },
  {
   "cell_type": "code",
   "execution_count": 7,
   "id": "95e54d2d-98ab-4dbb-b89f-6927ca571a0e",
   "metadata": {},
   "outputs": [
    {
     "name": "stdout",
     "output_type": "stream",
     "text": [
      "<class 'pandas.core.frame.DataFrame'>\n",
      "RangeIndex: 104 entries, 0 to 103\n",
      "Data columns (total 6 columns):\n",
      " #   Column             Non-Null Count  Dtype  \n",
      "---  ------             --------------  -----  \n",
      " 0   Sector             104 non-null    object \n",
      " 1   ValorInicial       104 non-null    float64\n",
      " 2   ValorSolicitado    104 non-null    float64\n",
      " 3   ValorComprometido  104 non-null    float64\n",
      " 4   ValorObligado      104 non-null    float64\n",
      " 5   ValorPagado        104 non-null    float64\n",
      "dtypes: float64(5), object(1)\n",
      "memory usage: 5.0+ KB\n"
     ]
    }
   ],
   "source": [
    "df.info()"
   ]
  },
  {
   "cell_type": "code",
   "execution_count": 8,
   "id": "ded6fd3a-a246-4650-98a4-2ac535d3f760",
   "metadata": {},
   "outputs": [
    {
     "data": {
      "text/plain": [
       "0      Transporte\n",
       "1      Transporte\n",
       "2      Planeación\n",
       "3      Transporte\n",
       "4      Transporte\n",
       "          ...    \n",
       "99     Transporte\n",
       "100    Transporte\n",
       "101    Transporte\n",
       "102    Transporte\n",
       "103    Transporte\n",
       "Name: Sector, Length: 104, dtype: object"
      ]
     },
     "execution_count": 8,
     "metadata": {},
     "output_type": "execute_result"
    }
   ],
   "source": [
    "df['Sector'].astype(str)"
   ]
  },
  {
   "cell_type": "code",
   "execution_count": 62,
   "id": "e9a0752f-eab5-4b41-9a60-21d647eda5a1",
   "metadata": {},
   "outputs": [],
   "source": [
    "X = df.iloc[0:104, [2, 3]].values"
   ]
  },
  {
   "cell_type": "code",
   "execution_count": 63,
   "id": "d5468db4-12b2-4118-bb5e-aef85a0af6d4",
   "metadata": {},
   "outputs": [],
   "source": [
    "y = df.iloc[0:104, 0].values\n",
    "y = np.where(y == 'Transporte', -1, 1)\n"
   ]
  },
  {
   "cell_type": "markdown",
   "id": "11b74def-efd1-49f3-b68f-3ebfcdd35fa4",
   "metadata": {},
   "source": [
    "### Después de haber hecho el filtrado de datos se procederá a entrenar la red neuronal con los datos que se proporcionaron anteriormente y la etiqueta que se predecirá será el sector al cual pertenecen de acuerdo a los datos proporcionados, es importante mencionar que se crearán dos redes neuronales, la primera tendrá una tasa de aprendizaje de 0.01 y la segunda tendrá una tasa de aprendizaje de 0.0001"
   ]
  },
  {
   "cell_type": "code",
   "execution_count": 70,
   "id": "51c69359-7cc4-4652-a562-07b44a2bae79",
   "metadata": {},
   "outputs": [
    {
     "name": "stderr",
     "output_type": "stream",
     "text": [
      "/tmp/ipykernel_11407/921596914.py:51: RuntimeWarning: overflow encountered in square\n",
      "  cost=(errors**2).sum()/2.0\n"
     ]
    }
   ],
   "source": [
    "ada1=Adaline(n_iter=10, eta=0.01).fit(X,y)\n",
    "ada2 = Adaline(n_iter=10, eta=0.0001).fit(X, y)"
   ]
  },
  {
   "cell_type": "markdown",
   "id": "83346117-1e61-43de-aaec-fa1b462ed30b",
   "metadata": {},
   "source": [
    "### Al haber creado estas dos redes, se verá la suma de los errores cuadrados a ver que sucede mediante unas gráficas que se explicarán a continuación"
   ]
  },
  {
   "cell_type": "code",
   "execution_count": 72,
   "id": "7653bfdb-ebdf-45b3-b718-feabf2439207",
   "metadata": {},
   "outputs": [
    {
     "data": {
      "text/plain": [
       "Text(0.5, 1.0, 'Adaline - tasa de aprendizaje del  0.0001')"
      ]
     },
     "execution_count": 72,
     "metadata": {},
     "output_type": "execute_result"
    },
    {
     "data": {
      "image/png": "[encoded data removed]",
      "text/plain": [
       "<Figure size 720x288 with 2 Axes>"
      ]
     },
     "metadata": {
      "needs_background": "light"
     },
     "output_type": "display_data"
    }
   ],
   "source": [
    "import matplotlib.pyplot as plt\n",
    "\n",
    "fig, ax = plt.subplots(nrows=1, ncols=2, figsize=(10, 4))\n",
    "ax[0].plot(range(1, len(ada1.cost_) + 1),np.log10(ada1.cost_), marker='o')\n",
    "ax[0].set_xlabel('Epocas')\n",
    "ax[0].set_ylabel('log(Suma de los errores cuadrados)')\n",
    "ax[0].set_title('Adaline - tasa de aprendizaje del  0.01')\n",
    "\n",
    "ax[1].plot(range(1, len(ada2.cost_) + 1),ada2.cost_, marker='o')\n",
    "ax[1].set_xlabel('Epocas')\n",
    "ax[1].set_ylabel('log(Suma de los errores cuadrados)')\n",
    "ax[1].set_title('Adaline - tasa de aprendizaje del  0.0001')\n",
    "\n",
    "\n"
   ]
  },
  {
   "cell_type": "code",
   "execution_count": 95,
   "id": "34599e91-b825-4fae-960a-d8279a390796",
   "metadata": {},
   "outputs": [],
   "source": [
    "from matplotlib.colors import ListedColormap\n",
    "def plot_decision_regions(X, y, classifier, resolution=0.01):\n",
    "    # setup marker generator and color map\n",
    "     markers = ('s', 'x', 'o', '^', 'v')\n",
    "     colors = ('red', 'blue', 'lightgreen', 'gray', 'cyan')\n",
    "     cmap = ListedColormap(colors[:len(np.unique(y))])\n",
    " \n",
    "     # plot the decision surface\n",
    "     x1_min, x1_max = X[:, 0].min() - 1, X[:, 0].max() + 1\n",
    "     x2_min, x2_max = X[:, 1].min() - 1, X[:, 1].max() + 1\n",
    "     xx1, xx2 = np.meshgrid(np.arange(x1_min, x1_max, resolution),np.arange(x2_min, x2_max, resolution))\n",
    "     Z = classifier.predict(np.array([xx1.ravel(), xx2.ravel()]).T)\n",
    "     Z = Z.reshape(xx1.shape)\n",
    "     plt.contourf(xx1, xx2, Z, alpha=0.3, cmap=cmap)\n",
    "     plt.xlim(xx1.min(), xx1.max())\n",
    "     plt.ylim(xx2.min(), xx2.max())\n",
    "\n",
    "     # plot class examples\n",
    "     for idx, cl in enumerate(np.unique(y)):\n",
    "         plt.scatter(x=X[y == cl, 0],y=X[y == cl, 1],alpha=0.8, c=colors[idx], marker=markers[idx], label=cl, edgecolor='black')\n",
    "\n",
    "     "
   ]
  },
  {
   "cell_type": "code",
   "execution_count": 91,
   "id": "37ec5339-947f-4352-b754-3c10ef97d819",
   "metadata": {},
   "outputs": [],
   "source": [
    "X_std = np.copy(X)\n",
    "X_std[:,0] = (X[:,0] - X[:,0].mean()) / X[:,0].std()\n",
    "X_std[:,1] = (X[:,1] - X[:,1].mean()) / X[:,1].std()\n"
   ]
  },
  {
   "cell_type": "code",
   "execution_count": 93,
   "id": "6828f9cb-5314-44a2-8cbc-347d7c0e5cfd",
   "metadata": {},
   "outputs": [
    {
     "data": {
      "text/plain": [
       "<__main__.Adaline at 0x7f7e8c2064c0>"
      ]
     },
     "execution_count": 93,
     "metadata": {},
     "output_type": "execute_result"
    }
   ],
   "source": [
    "ada_gd = Adaline(n_iter=15, eta=0.01)\n",
    "ada_gd.fit(X_std, y)"
   ]
  },
  {
   "cell_type": "markdown",
   "id": "593f8f6a-9255-4e32-8277-18cb90457fd0",
   "metadata": {},
   "source": [
    "## Como se puede ver, la red neuronal no tiene un espectro de clasificación ya que por la cantidad de datos, no se puede esperar que este tenga una un espectro de clasificación bastante bueno, esto es debido a que probablemente la gran mayoría de los datos pertenecían a un sector en especial y había muy pocos del otro sector, por lo cual este modelo no serviría para predecir por el entrenamiento que tiene"
   ]
  },
  {
   "cell_type": "code",
   "execution_count": 97,
   "id": "a7ab8f75-1b80-4820-8cd8-aa51fca1765d",
   "metadata": {},
   "outputs": [
    {
     "name": "stderr",
     "output_type": "stream",
     "text": [
      "/tmp/ipykernel_11407/4208624488.py:20: UserWarning: You passed a edgecolor/edgecolors ('black') for an unfilled marker ('x').  Matplotlib is ignoring the edgecolor in favor of the facecolor.  This behavior may change in the future.\n",
      "  plt.scatter(x=X[y == cl, 0],y=X[y == cl, 1],alpha=0.8, c=colors[idx], marker=markers[idx], label=cl, edgecolor='black')\n"
     ]
    },
    {
     "data": {
      "text/plain": [
       "<matplotlib.legend.Legend at 0x7f7e9d5d7c10>"
      ]
     },
     "execution_count": 97,
     "metadata": {},
     "output_type": "execute_result"
    },
    {
     "data": {
      "image/png": "[encoded data removed]",
      "text/plain": [
       "<Figure size 432x288 with 1 Axes>"
      ]
     },
     "metadata": {
      "needs_background": "light"
     },
     "output_type": "display_data"
    }
   ],
   "source": [
    "plot_decision_regions(X_std, y, classifier=ada_gd)\n",
    "plt.legend(loc='upper left')"
   ]
  },
  {
   "cell_type": "markdown",
   "id": "069ee2b6-edd6-4d33-bf06-d4354fa436c3",
   "metadata": {},
   "source": [
    "### Como último pasao y solo para asegurar se hace una pequeña predicción la cual no servirá de nada por el entrenamiento del modelo, pero sólo se hará para probar que el código sea bueno"
   ]
  },
  {
   "cell_type": "code",
   "execution_count": 99,
   "id": "3081d5f5-9022-41f6-8ffd-b6df546512b2",
   "metadata": {},
   "outputs": [],
   "source": [
    "x=[7800000000, 495000000]"
   ]
  },
  {
   "cell_type": "code",
   "execution_count": 100,
   "id": "82603b34-14b7-4ab7-9902-00fb570a1c76",
   "metadata": {},
   "outputs": [
    {
     "data": {
      "text/plain": [
       "array(-1)"
      ]
     },
     "execution_count": 100,
     "metadata": {},
     "output_type": "execute_result"
    }
   ],
   "source": [
    "ada_gd.predict(x)"
   ]
  },
  {
   "cell_type": "markdown",
   "id": "ff2c818c-6722-456d-bc41-418f17786929",
   "metadata": {},
   "source": [
    "## Conclusiones de esta red neuronal\n",
    "\n",
    "Se puede concluir de esta red neuronal que es muy buena para poder tomar decisiones básicas, en este caso la decisión de ver si el proyecto pertenece al sector de transporte o al sector de planeación, esto podría ayudar a acelerar procesos de tomas de decisiones en los ministerios y que además estos proyectos puedan ser radicados con más eficiencia y eficacia para poder tener un mejor panorama de lo que se pretende hacer en el país, lo cual dentro de la ingeniería catastral y geodesia sería de mucha ayuda en materia de toma de decisiones en los planes de ordenamiento territorial."
   ]
  }
 ],
 "metadata": {
  "kernelspec": {
   "display_name": "Python 3 (ipykernel)",
   "language": "python",
   "name": "python3"
  },
  "language_info": {
   "codemirror_mode": {
    "name": "ipython",
    "version": 3
   },
   "file_extension": ".py",
   "mimetype": "text/x-python",
   "name": "python",
   "nbconvert_exporter": "python",
   "pygments_lexer": "ipython3",
   "version": "3.9.12"
  }
 },
 "nbformat": 4,
 "nbformat_minor": 5
}
